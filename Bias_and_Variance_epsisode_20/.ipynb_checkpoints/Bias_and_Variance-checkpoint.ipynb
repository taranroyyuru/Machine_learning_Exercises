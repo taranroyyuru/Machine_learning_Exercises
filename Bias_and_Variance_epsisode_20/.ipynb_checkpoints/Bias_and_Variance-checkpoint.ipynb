{
 "cells": [
  {
   "cell_type": "code",
   "execution_count": 1,
   "id": "06fc41d0-3a6a-42fd-96a5-7e3a12450b95",
   "metadata": {},
   "outputs": [],
   "source": [
    "# Test error varies greatly based on the selection of the training data point\n",
    "# High variance in the test error based on the trainng sample you are selecting\n",
    "\n",
    "# High variance happens when your test error varies greatly based on your selection of data points --> test error\n",
    "# low variance usually happens with low flexibility models \n",
    "\n",
    "# Bias is a measurement of how accurately a model can capture a pattern in a training dataset. --> train error"
   ]
  },
  {
   "cell_type": "code",
   "execution_count": null,
   "id": "0f7b6cff-ee90-43c5-86e1-94faf73a26a6",
   "metadata": {},
   "outputs": [],
   "source": [
    "# How to get a balanced model\n",
    "\n",
    "# Cross validation\n",
    "# L1 and L2 Regularization\n",
    "# Dimensionality Reduction\n",
    "# Ensemble Techniques"
   ]
  }
 ],
 "metadata": {
  "kernelspec": {
   "display_name": "Python 3 (ipykernel)",
   "language": "python",
   "name": "python3"
  },
  "language_info": {
   "codemirror_mode": {
    "name": "ipython",
    "version": 3
   },
   "file_extension": ".py",
   "mimetype": "text/x-python",
   "name": "python",
   "nbconvert_exporter": "python",
   "pygments_lexer": "ipython3",
   "version": "3.10.16"
  }
 },
 "nbformat": 4,
 "nbformat_minor": 5
}
